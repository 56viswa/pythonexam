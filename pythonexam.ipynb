{
 "cells": [
  {
   "cell_type": "code",
   "execution_count": 4,
   "metadata": {},
   "outputs": [
    {
     "name": "stdout",
     "output_type": "stream",
     "text": [
      "ath\n",
      "Viswanath\n",
      "viswanath\n",
      "True\n",
      "False\n",
      "51090942171709440000\n",
      "90\n",
      "positive\n"
     ]
    }
   ],
   "source": [
    "#Given a string, write a Python program to extract the last three characters from the string and print them\n",
    "string = \"viswanath\"\n",
    "index=string[6:]\n",
    "print(index)\n",
    "#You are given a string. Write a Python program to replace all occurrences of the character 'l' (lowercase L) with 'L' (uppercase L) and print the modified string.\n",
    "string = \"viswanath\"\n",
    "\n",
    "word = string.replace(\"v\",\"V\")\n",
    "print(word)\n",
    "word1 = string.replace (\"V\",\"v\")\n",
    "print(word1)\n",
    "#Write a Python program to check if a given integer is even. If the integer is even, print True; otherwise, print False.\n",
    "number = 10\n",
    "if number %2==0:\n",
    "    print(\"True\")\n",
    "else :\n",
    "    print(\"False\")\n",
    "#Write a Python program to check if a given integer is divisible by both 3 and 5. If the integer is divisible by both, print True; otherwise, print False.\n",
    "num = 21\n",
    "if  num %3==0 and  num %5==0:\n",
    "    print(\"True\")\n",
    "else :\n",
    "    print(\"False\")    \n",
    "#Write a Python program to calculate the factorial of a given number using a while loop.\n",
    "num = 21\n",
    "fac = 1\n",
    "for i in range (1, num+1):\n",
    "    fac = fac*i\n",
    "print(fac)\n",
    "#Write a Python function that takes two numbers as input and returns their sum.\n",
    "def addition_num(num3,num4):\n",
    "   return num3+num4\n",
    "num3,num4=23,67\n",
    "res = addition_num(num3,num4)\n",
    "print(res)\n",
    "#Write a Python program that takes an integer input from the user and prints whether it is positive, negative, or zero.\n",
    "num = 4\n",
    "\n",
    "\n",
    "if num > 0:\n",
    "    print(\"positive\")\n",
    "elif num < 0:\n",
    "    print(\" negative\")\n",
    "else:\n",
    "    print(\" zero\")\n",
    "    "
   ]
  }
 ],
 "metadata": {
  "kernelspec": {
   "display_name": "Python 3",
   "language": "python",
   "name": "python3"
  },
  "language_info": {
   "codemirror_mode": {
    "name": "ipython",
    "version": 3
   },
   "file_extension": ".py",
   "mimetype": "text/x-python",
   "name": "python",
   "nbconvert_exporter": "python",
   "pygments_lexer": "ipython3",
   "version": "3.11.9"
  }
 },
 "nbformat": 4,
 "nbformat_minor": 2
}
